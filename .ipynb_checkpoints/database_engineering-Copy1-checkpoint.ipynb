{
 "cells": [
  {
   "cell_type": "code",
   "execution_count": 1,
   "metadata": {
    "collapsed": true
   },
   "outputs": [],
   "source": [
    "import pandas as pd\n",
    "\n",
    "# Import SQL Alchemy\n",
    "from sqlalchemy import create_engine\n",
    "\n",
    "# Import and establish Base for which classes will be constructed \n",
    "from sqlalchemy.ext.declarative import declarative_base\n",
    "Base = declarative_base()\n",
    "\n",
    "# Import modules to declare columns and column data types\n",
    "from sqlalchemy import Column, Integer, String, Float"
   ]
  },
  {
   "cell_type": "code",
   "execution_count": 2,
   "metadata": {
    "collapsed": true
   },
   "outputs": [],
   "source": [
    "# Read data for data engineering\n",
    "# measures = pd.read_csv('clean_hawaii_measurements.csv')\n",
    "# stations = pd.read_csv('clean_hawaii_stations.csv')"
   ]
  },
  {
   "cell_type": "code",
   "execution_count": 3,
   "metadata": {},
   "outputs": [],
   "source": [
    "# Create the Stations class\n",
    "class Stations(Base):\n",
    "    __tablename__ = 'Stations'\n",
    "    id = Column(Integer, primary_key = True, autoincrement=True)\n",
    "    station = Column(String(12))\n",
    "    name = Column(String(255))\n",
    "    latitude = Float(3,4)\n",
    "    longitude = Float(3,4)\n",
    "    elevation = Float(4,2)\n",
    "    \n",
    "#Create the Measures class\n",
    "class Measures(Base):\n",
    "    __tablename__ = 'Measures'\n",
    "    id = Column(Integer, primary_key=True, autoincrement=True)\n",
    "    station = Column(String(12))\n",
    "    date = Column(String(10))\n",
    "    prcp = Column(Float(3,2))\n",
    "    tobs = Column(Integer)\n",
    "    year = Column(String(4))\n",
    "    month = Column(String(2))"
   ]
  },
  {
   "cell_type": "code",
   "execution_count": 4,
   "metadata": {
    "collapsed": true
   },
   "outputs": [],
   "source": [
    "# Create a connection to a SQLite database\n",
    "engine = create_engine('sqlite:///hawaii.db', echo=True)"
   ]
  },
  {
   "cell_type": "code",
   "execution_count": 5,
   "metadata": {},
   "outputs": [
    {
     "name": "stdout",
     "output_type": "stream",
     "text": [
      "2018-04-01 09:16:27,399 INFO sqlalchemy.engine.base.Engine SELECT CAST('test plain returns' AS VARCHAR(60)) AS anon_1\n",
      "2018-04-01 09:16:27,415 INFO sqlalchemy.engine.base.Engine ()\n",
      "2018-04-01 09:16:27,422 INFO sqlalchemy.engine.base.Engine SELECT CAST('test unicode returns' AS VARCHAR(60)) AS anon_1\n",
      "2018-04-01 09:16:27,426 INFO sqlalchemy.engine.base.Engine ()\n",
      "2018-04-01 09:16:27,430 INFO sqlalchemy.engine.base.Engine PRAGMA table_info(\"Stations\")\n",
      "2018-04-01 09:16:27,432 INFO sqlalchemy.engine.base.Engine ()\n",
      "2018-04-01 09:16:27,438 INFO sqlalchemy.engine.base.Engine PRAGMA table_info(\"Measures\")\n",
      "2018-04-01 09:16:27,441 INFO sqlalchemy.engine.base.Engine ()\n",
      "2018-04-01 09:16:27,446 INFO sqlalchemy.engine.base.Engine \n",
      "CREATE TABLE \"Stations\" (\n",
      "\tid INTEGER NOT NULL, \n",
      "\tstation VARCHAR(12), \n",
      "\tname VARCHAR(255), \n",
      "\tPRIMARY KEY (id)\n",
      ")\n",
      "\n",
      "\n",
      "2018-04-01 09:16:27,448 INFO sqlalchemy.engine.base.Engine ()\n",
      "2018-04-01 09:16:27,468 INFO sqlalchemy.engine.base.Engine COMMIT\n",
      "2018-04-01 09:16:27,475 INFO sqlalchemy.engine.base.Engine \n",
      "CREATE TABLE \"Measures\" (\n",
      "\tid INTEGER NOT NULL, \n",
      "\tstation VARCHAR(12), \n",
      "\tdate VARCHAR(10), \n",
      "\tprcp FLOAT, \n",
      "\ttobs INTEGER, \n",
      "\tyear VARCHAR(4), \n",
      "\tmonth VARCHAR(2), \n",
      "\tPRIMARY KEY (id)\n",
      ")\n",
      "\n",
      "\n",
      "2018-04-01 09:16:27,479 INFO sqlalchemy.engine.base.Engine ()\n",
      "2018-04-01 09:16:27,507 INFO sqlalchemy.engine.base.Engine COMMIT\n"
     ]
    }
   ],
   "source": [
    "# Create the Stations and Measures tables within the database\n",
    "Base.metadata.create_all(engine)"
   ]
  },
  {
   "cell_type": "code",
   "execution_count": 6,
   "metadata": {
    "collapsed": true
   },
   "outputs": [],
   "source": [
    "# To push the objects made and query the server we use a Session object\n",
    "# from sqlalchemy.orm import Session\n",
    "# session = Session(bind=engine)"
   ]
  },
  {
   "cell_type": "code",
   "execution_count": 7,
   "metadata": {
    "collapsed": true
   },
   "outputs": [],
   "source": [
    "import sqlite3, csv\n",
    "con = sqlite3.connect(\"hawaii.db\")\n",
    "cur = con.cursor()"
   ]
  },
  {
   "cell_type": "code",
   "execution_count": 8,
   "metadata": {},
   "outputs": [
    {
     "ename": "ValueError",
     "evalue": "too many values to unpack (expected 2)",
     "output_type": "error",
     "traceback": [
      "\u001b[1;31m---------------------------------------------------------------------------\u001b[0m",
      "\u001b[1;31mValueError\u001b[0m                                Traceback (most recent call last)",
      "\u001b[1;32m<ipython-input-8-3193e02c40df>\u001b[0m in \u001b[0;36m<module>\u001b[1;34m()\u001b[0m\n\u001b[0;32m      4\u001b[0m \u001b[1;31m#     for x in drm:\u001b[0m\u001b[1;33m\u001b[0m\u001b[1;33m\u001b[0m\u001b[0m\n\u001b[0;32m      5\u001b[0m \u001b[1;31m#         print(x)\u001b[0m\u001b[1;33m\u001b[0m\u001b[1;33m\u001b[0m\u001b[0m\n\u001b[1;32m----> 6\u001b[1;33m     \u001b[0mto_db_m\u001b[0m \u001b[1;33m=\u001b[0m \u001b[1;33m[\u001b[0m\u001b[1;33m(\u001b[0m\u001b[0midx\u001b[0m \u001b[1;33m,\u001b[0m \u001b[0mi\u001b[0m\u001b[1;33m[\u001b[0m\u001b[1;34m'station'\u001b[0m\u001b[1;33m]\u001b[0m\u001b[1;33m,\u001b[0m \u001b[0mi\u001b[0m\u001b[1;33m[\u001b[0m\u001b[1;34m'date'\u001b[0m\u001b[1;33m]\u001b[0m\u001b[1;33m,\u001b[0m \u001b[0mi\u001b[0m\u001b[1;33m[\u001b[0m\u001b[1;34m'prcp'\u001b[0m\u001b[1;33m]\u001b[0m\u001b[1;33m,\u001b[0m \u001b[0mi\u001b[0m\u001b[1;33m[\u001b[0m\u001b[1;34m'tobs'\u001b[0m\u001b[1;33m]\u001b[0m\u001b[1;33m,\u001b[0m \u001b[0mi\u001b[0m\u001b[1;33m[\u001b[0m\u001b[1;34m'year'\u001b[0m\u001b[1;33m]\u001b[0m\u001b[1;33m,\u001b[0m\u001b[0mi\u001b[0m\u001b[1;33m[\u001b[0m\u001b[1;34m'month'\u001b[0m\u001b[1;33m]\u001b[0m\u001b[1;33m)\u001b[0m \u001b[1;32mfor\u001b[0m \u001b[0mi\u001b[0m\u001b[1;33m,\u001b[0m \u001b[0midx\u001b[0m \u001b[1;32min\u001b[0m \u001b[0mdrm\u001b[0m\u001b[1;33m]\u001b[0m\u001b[1;33m\u001b[0m\u001b[0m\n\u001b[0m\u001b[0;32m      7\u001b[0m \u001b[1;33m\u001b[0m\u001b[0m\n\u001b[0;32m      8\u001b[0m \u001b[0mcur\u001b[0m\u001b[1;33m.\u001b[0m\u001b[0mexecutemany\u001b[0m\u001b[1;33m(\u001b[0m\u001b[1;34m\"INSERT INTO measures VALUES (?,?,?,?,?,?,?);\"\u001b[0m\u001b[1;33m,\u001b[0m \u001b[0mto_db_m\u001b[0m\u001b[1;33m)\u001b[0m\u001b[1;33m\u001b[0m\u001b[0m\n",
      "\u001b[1;32m<ipython-input-8-3193e02c40df>\u001b[0m in \u001b[0;36m<listcomp>\u001b[1;34m(.0)\u001b[0m\n\u001b[0;32m      4\u001b[0m \u001b[1;31m#     for x in drm:\u001b[0m\u001b[1;33m\u001b[0m\u001b[1;33m\u001b[0m\u001b[0m\n\u001b[0;32m      5\u001b[0m \u001b[1;31m#         print(x)\u001b[0m\u001b[1;33m\u001b[0m\u001b[1;33m\u001b[0m\u001b[0m\n\u001b[1;32m----> 6\u001b[1;33m     \u001b[0mto_db_m\u001b[0m \u001b[1;33m=\u001b[0m \u001b[1;33m[\u001b[0m\u001b[1;33m(\u001b[0m\u001b[0midx\u001b[0m \u001b[1;33m,\u001b[0m \u001b[0mi\u001b[0m\u001b[1;33m[\u001b[0m\u001b[1;34m'station'\u001b[0m\u001b[1;33m]\u001b[0m\u001b[1;33m,\u001b[0m \u001b[0mi\u001b[0m\u001b[1;33m[\u001b[0m\u001b[1;34m'date'\u001b[0m\u001b[1;33m]\u001b[0m\u001b[1;33m,\u001b[0m \u001b[0mi\u001b[0m\u001b[1;33m[\u001b[0m\u001b[1;34m'prcp'\u001b[0m\u001b[1;33m]\u001b[0m\u001b[1;33m,\u001b[0m \u001b[0mi\u001b[0m\u001b[1;33m[\u001b[0m\u001b[1;34m'tobs'\u001b[0m\u001b[1;33m]\u001b[0m\u001b[1;33m,\u001b[0m \u001b[0mi\u001b[0m\u001b[1;33m[\u001b[0m\u001b[1;34m'year'\u001b[0m\u001b[1;33m]\u001b[0m\u001b[1;33m,\u001b[0m\u001b[0mi\u001b[0m\u001b[1;33m[\u001b[0m\u001b[1;34m'month'\u001b[0m\u001b[1;33m]\u001b[0m\u001b[1;33m)\u001b[0m \u001b[1;32mfor\u001b[0m \u001b[0mi\u001b[0m\u001b[1;33m,\u001b[0m \u001b[0midx\u001b[0m \u001b[1;32min\u001b[0m \u001b[0mdrm\u001b[0m\u001b[1;33m]\u001b[0m\u001b[1;33m\u001b[0m\u001b[0m\n\u001b[0m\u001b[0;32m      7\u001b[0m \u001b[1;33m\u001b[0m\u001b[0m\n\u001b[0;32m      8\u001b[0m \u001b[0mcur\u001b[0m\u001b[1;33m.\u001b[0m\u001b[0mexecutemany\u001b[0m\u001b[1;33m(\u001b[0m\u001b[1;34m\"INSERT INTO measures VALUES (?,?,?,?,?,?,?);\"\u001b[0m\u001b[1;33m,\u001b[0m \u001b[0mto_db_m\u001b[0m\u001b[1;33m)\u001b[0m\u001b[1;33m\u001b[0m\u001b[0m\n",
      "\u001b[1;31mValueError\u001b[0m: too many values to unpack (expected 2)"
     ]
    }
   ],
   "source": [
    "with open('clean_hawaii_measurements.csv','r') as measure_table:\n",
    "    drm = csv.DictReader(measure_table)\n",
    "#     print(drm)\n",
    "#     for x in drm:\n",
    "#         print(x)\n",
    "    to_db_m = [(idx , i['station'], i['date'], i['prcp'], i['tobs'], i['year'],i['month']) for i, idx in drm]\n",
    "\n",
    "cur.executemany(\"INSERT INTO measures VALUES (?,?,?,?,?,?,?);\", to_db_m)\n"
   ]
  },
  {
   "cell_type": "code",
   "execution_count": null,
   "metadata": {
    "collapsed": true
   },
   "outputs": [],
   "source": [
    "# with open('clean_hawaii_stations.csv','r') as station_table:\n",
    "#     drs = csv.DictReader(station_table)\n",
    "#     to_db_s = [(idx, i['station'], i['name'], i['latitude'], i['longitude'],) for i, idx in drs]\n",
    "\n",
    "# cur.executemany(\"INSERT INTO stations VALUES (?,?,?,?,?);\", to_db_s)"
   ]
  },
  {
   "cell_type": "code",
   "execution_count": null,
   "metadata": {
    "collapsed": true
   },
   "outputs": [],
   "source": [
    "con.commit()"
   ]
  }
 ],
 "metadata": {
  "kernelspec": {
   "display_name": "Python 3",
   "language": "python",
   "name": "python3"
  },
  "language_info": {
   "codemirror_mode": {
    "name": "ipython",
    "version": 3
   },
   "file_extension": ".py",
   "mimetype": "text/x-python",
   "name": "python",
   "nbconvert_exporter": "python",
   "pygments_lexer": "ipython3",
   "version": "3.6.3"
  }
 },
 "nbformat": 4,
 "nbformat_minor": 2
}
